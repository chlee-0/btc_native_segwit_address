{
  "nbformat": 4,
  "nbformat_minor": 0,
  "metadata": {
    "colab": {
      "name": "bitcoin native segwit address",
      "provenance": [],
      "collapsed_sections": []
    },
    "kernelspec": {
      "name": "python3",
      "display_name": "Python 3"
    },
    "language_info": {
      "name": "python"
    }
  },
  "cells": [
    {
      "cell_type": "code",
      "source": [
        "#https://bitcointalk.org/index.php?topic=4992632.msg45031167#msg45031167\n",
        "#https://github.com/sipa/bech32/blob/master/ref/python/segwit_addr.py"
      ],
      "metadata": {
        "id": "y_aV_V3IR3U0"
      },
      "execution_count": 1,
      "outputs": []
    },
    {
      "cell_type": "code",
      "source": [
        "!pip install ecdsa bech32"
      ],
      "metadata": {
        "colab": {
          "base_uri": "https://localhost:8080/"
        },
        "id": "-jUDKhD2slBr",
        "outputId": "91547ed6-d612-45d0-af05-8bc6fc9062c0"
      },
      "execution_count": 2,
      "outputs": [
        {
          "output_type": "stream",
          "name": "stdout",
          "text": [
            "Looking in indexes: https://pypi.org/simple, https://us-python.pkg.dev/colab-wheels/public/simple/\n",
            "Collecting ecdsa\n",
            "  Downloading ecdsa-0.18.0-py2.py3-none-any.whl (142 kB)\n",
            "\u001b[K     |████████████████████████████████| 142 kB 6.6 MB/s \n",
            "\u001b[?25hCollecting bech32\n",
            "  Downloading bech32-1.2.0-py3-none-any.whl (4.6 kB)\n",
            "Requirement already satisfied: six>=1.9.0 in /usr/local/lib/python3.7/dist-packages (from ecdsa) (1.15.0)\n",
            "Installing collected packages: ecdsa, bech32\n",
            "Successfully installed bech32-1.2.0 ecdsa-0.18.0\n"
          ]
        }
      ]
    },
    {
      "cell_type": "code",
      "source": [
        "import hashlib, ecdsa, bech32"
      ],
      "metadata": {
        "id": "paHPJafPsiA-"
      },
      "execution_count": 3,
      "outputs": []
    },
    {
      "cell_type": "code",
      "source": [
        "# Step0: ECDSA Private Key\")\n",
        "#k = 1 #secret : 1<=k<=0xfffffffffffffffffffffffffffffffebaaedce6af48a03bbfd25e8cd0364141 *)\n",
        "k = 0xe7b865fd0e713f2410fb1a13251d775723de9cad7166a9c6f3bbab5efa57386c\n",
        "ecdsaPrivateKey = ecdsa.SigningKey.from_secret_exponent(k, curve=ecdsa.SECP256k1)\n",
        "#to generate a random key\n",
        "#ecdsaPrivateKey = ecdsa.SigningKey.generate(curve=ecdsa.SECP256k1)\n",
        "print(\"0 ECDSA Private Key: \", ecdsaPrivateKey.to_string().hex())\n",
        "print(\"------------------------------------------------------\")\n",
        "# Step1: Generate ECDSA Public Key\n",
        "#https://en.bitcoin.it/wiki/Protocol_documentation#Signatures\n",
        "#Public keys (in scripts) are given as 04 <x> <y> where x and y are 32 byte big-endian integers representing the coordinates of a point on the curve \n",
        "#or in compressed form given as <sign> <x> where <sign> is 0x02 if y is even and 0x03 if y is odd.\n",
        "public_key_xy_coordinates = ecdsaPrivateKey.get_verifying_key().to_string().hex()\n",
        "public_key = '04' + public_key_xy_coordinates\n",
        "parity_y = ('02' if int(public_key_xy_coordinates[-1], 16) % 2 == 0 else '03')\n",
        "compressed_public_key = parity_y + public_key_xy_coordinates[:64]\n",
        "step1 = compressed_public_key\n",
        "print(\"1 ECDSA Public Key: \", public_key)\n",
        "print(\" compressed public key\", compressed_public_key)\n",
        "print(\"------------------------------------------------------\")\n",
        "# Step2: SHA256 of public key\n",
        "hash256FromECDSAPublicKey = hashlib.sha256(bytes.fromhex(step1)).hexdigest()\n",
        "step2 = hash256FromECDSAPublicKey\n",
        "print(\"2 SHA256(ECDSA Public Key): \", step2)\n",
        "print(\"------------------------------------------------------\")\n",
        "# Step3: RIDEMP160 of step 2\n",
        "ridemp160FromHash256 = hashlib.new('ripemd160', bytes.fromhex(step2)).hexdigest()\n",
        "step3 = ridemp160FromHash256\n",
        "print(\"3 RIDEMP160(SHA256(ECDSA Public Key)): \", step3) \n",
        "print(\" RIDEMP160 as array of 8-bit unsigned integers:\", [b for b in bytes.fromhex(step3)])\n",
        "print(\"------------------------------------------------------\")\n",
        "# Step4: Bech32 bit conversion: array of 8-bit unsigned integers  -> array of 5-bit unsigned integers\n",
        "fivebit_witprog = bech32.convertbits([b for b in bytes.fromhex(step3)], 8, 5)\n",
        "step4 = fivebit_witprog\n",
        "print(\"4 RIDEMP160 as array of 5-bit unsigned integers:\", step4)\n",
        "print(\"------------------------------------------------------\")\n",
        "#Step5: Add the witness version byte (current version is 0):\n",
        "witver = 0\n",
        "step5 = [witver] + step4\n",
        "print(\"5 Prepend Witness version to result of step 4: \", step5)\n",
        "print(\"------------------------------------------------------\")\n",
        "#Step6: Compute the checksum by using the data from step 5 and the H.R.P (bc for MainNet and tb for TestNet)\n",
        "checksum = bech32.bech32_create_checksum('bc', step5)\n",
        "print(\"6 Checksum of result of step 5: \", checksum)\n",
        "print(\"------------------------------------------------------\")\n",
        "#Step7: Append the checksum to result of step 5:\n",
        "step7 = step5+checksum\n",
        "print(\"7 Append Checksum to result of step 5: \", step7)\n",
        "print(\"------------------------------------------------------\")\n",
        "#Step8: Map each value to its corresponding character in bech32 (qpzry9x8gf2tvdw0s3jn54khce6mua7l)\n",
        "step8 = [bech32.CHARSET[d] for d in step7]\n",
        "print(\"8 map each value to its corresponding character:\", step8)\n",
        "print(\"------------------------------------------------------\")\n",
        "#Step9: A Bech32_encoded address consists of 3 parts: HRP + Separator + Data:\n",
        "step9 = \"bc\" + \"1\"+ \"\".join(step8)\n",
        "print(\"9 Bitcoin Address: \", step9)\n",
        "print(\"------------------------------------------------------\")"
      ],
      "metadata": {
        "colab": {
          "base_uri": "https://localhost:8080/"
        },
        "id": "JoFqpcYLAOH5",
        "outputId": "3acfbf8e-313b-44c7-d0b0-a916c7c7f3b8"
      },
      "execution_count": 4,
      "outputs": [
        {
          "output_type": "stream",
          "name": "stdout",
          "text": [
            "0 ECDSA Private Key:  e7b865fd0e713f2410fb1a13251d775723de9cad7166a9c6f3bbab5efa57386c\n",
            "------------------------------------------------------\n",
            "1 ECDSA Public Key:  04339bd6bf708bff6e9b5f3545ee78365057a196068500261a1554211f39f52c05830daa652c52147889c0c8d46d4dda69ea0ea8933c3c7813e0bd68c6f641464a\n",
            " compressed public key 02339bd6bf708bff6e9b5f3545ee78365057a196068500261a1554211f39f52c05\n",
            "------------------------------------------------------\n",
            "2 SHA256(ECDSA Public Key):  986df10eaabb44592097feb6d36aa33de805bbfc290f8466cf856d86cd2fc8f4\n",
            "------------------------------------------------------\n",
            "3 RIDEMP160(SHA256(ECDSA Public Key)):  d24e6e52777529cb010b362b26c410ac520ec1df\n",
            " RIDEMP160 as array of 8-bit unsigned integers: [210, 78, 110, 82, 119, 117, 41, 203, 1, 11, 54, 43, 38, 196, 16, 172, 82, 14, 193, 223]\n",
            "------------------------------------------------------\n",
            "4 RIDEMP160 as array of 5-bit unsigned integers: [26, 9, 7, 6, 28, 20, 19, 23, 14, 20, 20, 28, 22, 0, 8, 11, 6, 24, 21, 18, 13, 17, 0, 16, 21, 17, 9, 0, 29, 16, 14, 31]\n",
            "------------------------------------------------------\n",
            "5 Prepend Witness version to result of step 4:  [0, 26, 9, 7, 6, 28, 20, 19, 23, 14, 20, 20, 28, 22, 0, 8, 11, 6, 24, 21, 18, 13, 17, 0, 16, 21, 17, 9, 0, 29, 16, 14, 31]\n",
            "------------------------------------------------------\n",
            "6 Checksum of result of step 5:  [13, 28, 1, 15, 20, 30]\n",
            "------------------------------------------------------\n",
            "7 Append Checksum to result of step 5:  [0, 26, 9, 7, 6, 28, 20, 19, 23, 14, 20, 20, 28, 22, 0, 8, 11, 6, 24, 21, 18, 13, 17, 0, 16, 21, 17, 9, 0, 29, 16, 14, 31, 13, 28, 1, 15, 20, 30]\n",
            "------------------------------------------------------\n",
            "8 map each value to its corresponding character: ['q', '6', 'f', '8', 'x', 'u', '5', 'n', 'h', 'w', '5', '5', 'u', 'k', 'q', 'g', 't', 'x', 'c', '4', 'j', 'd', '3', 'q', 's', '4', '3', 'f', 'q', 'a', 's', 'w', 'l', 'd', 'u', 'p', '0', '5', '7']\n",
            "------------------------------------------------------\n",
            "9 Bitcoin Address:  bc1q6f8xu5nhw55ukqgtxc4jd3qs43fqaswldup057\n",
            "------------------------------------------------------\n"
          ]
        }
      ]
    }
  ]
}