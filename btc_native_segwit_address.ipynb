{
  "nbformat": 4,
  "nbformat_minor": 0,
  "metadata": {
    "colab": {
      "name": "btc native segwit address",
      "provenance": [],
      "collapsed_sections": []
    },
    "kernelspec": {
      "name": "python3",
      "display_name": "Python 3"
    },
    "language_info": {
      "name": "python"
    }
  },
  "cells": [
    {
      "cell_type": "code",
      "source": [
        "#https://bitcointalk.org/index.php?topic=4992632.msg45031167#msg45031167\n",
        "#https://github.com/sipa/bech32/blob/master/ref/python/segwit_addr.py"
      ],
      "metadata": {
        "id": "y_aV_V3IR3U0"
      },
      "execution_count": 1,
      "outputs": []
    },
    {
      "cell_type": "code",
      "source": [
        "!pip install ecdsa bech32"
      ],
      "metadata": {
        "colab": {
          "base_uri": "https://localhost:8080/"
        },
        "id": "-jUDKhD2slBr",
        "outputId": "456f2a81-a3c3-4757-f1ff-6d8f48bdb90a"
      },
      "execution_count": 2,
      "outputs": [
        {
          "output_type": "stream",
          "name": "stdout",
          "text": [
            "Looking in indexes: https://pypi.org/simple, https://us-python.pkg.dev/colab-wheels/public/simple/\n",
            "Requirement already satisfied: ecdsa in /usr/local/lib/python3.7/dist-packages (0.18.0)\n",
            "Requirement already satisfied: bech32 in /usr/local/lib/python3.7/dist-packages (1.2.0)\n",
            "Requirement already satisfied: six>=1.9.0 in /usr/local/lib/python3.7/dist-packages (from ecdsa) (1.15.0)\n"
          ]
        }
      ]
    },
    {
      "cell_type": "code",
      "source": [
        "import hashlib, ecdsa, bech32"
      ],
      "metadata": {
        "id": "paHPJafPsiA-"
      },
      "execution_count": 3,
      "outputs": []
    },
    {
      "cell_type": "code",
      "source": [
        "# Step0: ECDSA Private Key\")\n",
        "k = 1 #secret : 1<=k<=0xfffffffffffffffffffffffffffffffebaaedce6af48a03bbfd25e8cd0364141 *)\n",
        "ecdsaPrivateKey = ecdsa.SigningKey.from_secret_exponent(k, curve=ecdsa.SECP256k1)\n",
        "#to generate a random key\n",
        "#ecdsaPrivateKey = ecdsa.SigningKey.generate(curve=ecdsa.SECP256k1)\n",
        "print(\"0 ECDSA Private Key: \", ecdsaPrivateKey.to_string().hex())\n",
        "print(\"------------------------------------------------------\")\n",
        "# Step1: Generate ECDSA Public Key\n",
        "#https://en.bitcoin.it/wiki/Protocol_documentation#Signatures\n",
        "#Public keys (in scripts) are given as 04 <x> <y> where x and y are 32 byte big-endian integers representing the coordinates of a point on the curve \n",
        "#or in compressed form given as <sign> <x> where <sign> is 0x02 if y is even and 0x03 if y is odd.\n",
        "public_key_xy_coordinates = ecdsaPrivateKey.get_verifying_key().to_string().hex()\n",
        "public_key = '04' + public_key_xy_coordinates\n",
        "parity_y = ('02' if int(public_key_xy_coordinates[-1], 16) % 2 == 0 else '03')\n",
        "compressed_public_key = parity_y + public_key_xy_coordinates[:64]\n",
        "step1 = compressed_public_key\n",
        "print(\"1 ECDSA Public Key: \", public_key)\n",
        "print(\" compressed public key\", compressed_public_key)\n",
        "print(\"------------------------------------------------------\")\n",
        "# Step2: SHA256 of public key\n",
        "hash256FromECDSAPublicKey = hashlib.sha256(bytes.fromhex(step1)).hexdigest()\n",
        "step2 = hash256FromECDSAPublicKey\n",
        "print(\"2 SHA256(ECDSA Public Key): \", step2)\n",
        "print(\"------------------------------------------------------\")\n",
        "# Step3: RIDEMP160 of step 2\n",
        "ridemp160FromHash256 = hashlib.new('ripemd160', bytes.fromhex(step2)).hexdigest()\n",
        "step3 = ridemp160FromHash256\n",
        "print(\"3 RIDEMP160(SHA256(ECDSA Public Key)): \", step3) \n",
        "print(\" RIDEMP160 as array of 8-bit unsigned integers:\", [b for b in bytes.fromhex(step3)])\n",
        "print(\"------------------------------------------------------\")\n",
        "# Step4: Bech32 bit conversion: array of 8-bit unsigned integers  -> array of 5-bit unsigned integers\n",
        "fivebit_witprog = bech32.convertbits([b for b in bytes.fromhex(step3)], 8, 5)\n",
        "step4 = fivebit_witprog\n",
        "print(\"4 RIDEMP160 as array of 5-bit unsigned integers:\", step4)\n",
        "print(\"------------------------------------------------------\")\n",
        "#Step5: Add the witness version byte (current version is 0):\n",
        "witver = 0\n",
        "step5 = [witver] + step4\n",
        "print(\"5 Prepend Witness version to result of step 4: \", step5)\n",
        "print(\"------------------------------------------------------\")\n",
        "#Step6: Compute the checksum by using the data from step 5 and the H.R.P (bc for MainNet and tb for TestNet)\n",
        "checksum = bech32.bech32_create_checksum('bc', step5)\n",
        "print(\"6 Checksum of result of step 5: \", checksum)\n",
        "print(\"------------------------------------------------------\")\n",
        "#Step7: Append the checksum to result of step 5:\n",
        "step7 = step5+checksum\n",
        "print(\"7 Append Checksum to result of step 5: \", step7)\n",
        "print(\"------------------------------------------------------\")\n",
        "#Step8: Map each value to its corresponding character in bech32 (qpzry9x8gf2tvdw0s3jn54khce6mua7l)\n",
        "step8 = [bech32.CHARSET[d] for d in step7]\n",
        "print(\"8 map each value to its corresponding character:\", step8)\n",
        "print(\"------------------------------------------------------\")\n",
        "#Step9: A Bech32_encoded address consists of 3 parts: HRP + Separator + Data:\n",
        "step9 = \"bc\" + \"1\"+ \"\".join(step8)\n",
        "print(\"9 Bitcoin Address: \", step9)\n",
        "print(\"------------------------------------------------------\")"
      ],
      "metadata": {
        "colab": {
          "base_uri": "https://localhost:8080/"
        },
        "id": "JoFqpcYLAOH5",
        "outputId": "d793deb6-167b-4b22-ca07-e09cfc1ac092"
      },
      "execution_count": 4,
      "outputs": [
        {
          "output_type": "stream",
          "name": "stdout",
          "text": [
            "0 ECDSA Private Key:  0000000000000000000000000000000000000000000000000000000000000001\n",
            "------------------------------------------------------\n",
            "1 ECDSA Public Key:  0479be667ef9dcbbac55a06295ce870b07029bfcdb2dce28d959f2815b16f81798483ada7726a3c4655da4fbfc0e1108a8fd17b448a68554199c47d08ffb10d4b8\n",
            " compressed public key 0279be667ef9dcbbac55a06295ce870b07029bfcdb2dce28d959f2815b16f81798\n",
            "------------------------------------------------------\n",
            "2 SHA256(ECDSA Public Key):  0f715baf5d4c2ed329785cef29e562f73488c8a2bb9dbc5700b361d54b9b0554\n",
            "------------------------------------------------------\n",
            "3 RIDEMP160(SHA256(ECDSA Public Key)):  751e76e8199196d454941c45d1b3a323f1433bd6\n",
            " RIDEMP160 as array of 8-bit unsigned integers: [117, 30, 118, 232, 25, 145, 150, 212, 84, 148, 28, 69, 209, 179, 163, 35, 241, 67, 59, 214]\n",
            "------------------------------------------------------\n",
            "4 RIDEMP160 as array of 5-bit unsigned integers: [14, 20, 15, 7, 13, 26, 0, 25, 18, 6, 11, 13, 8, 21, 4, 20, 3, 17, 2, 29, 3, 12, 29, 3, 4, 15, 24, 20, 6, 14, 30, 22]\n",
            "------------------------------------------------------\n",
            "5 Prepend Witness version to result of step 4:  [0, 14, 20, 15, 7, 13, 26, 0, 25, 18, 6, 11, 13, 8, 21, 4, 20, 3, 17, 2, 29, 3, 12, 29, 3, 4, 15, 24, 20, 6, 14, 30, 22]\n",
            "------------------------------------------------------\n",
            "6 Checksum of result of step 5:  [12, 7, 9, 17, 11, 21]\n",
            "------------------------------------------------------\n",
            "7 Append Checksum to result of step 5:  [0, 14, 20, 15, 7, 13, 26, 0, 25, 18, 6, 11, 13, 8, 21, 4, 20, 3, 17, 2, 29, 3, 12, 29, 3, 4, 15, 24, 20, 6, 14, 30, 22, 12, 7, 9, 17, 11, 21]\n",
            "------------------------------------------------------\n",
            "8 map each value to its corresponding character: ['q', 'w', '5', '0', '8', 'd', '6', 'q', 'e', 'j', 'x', 't', 'd', 'g', '4', 'y', '5', 'r', '3', 'z', 'a', 'r', 'v', 'a', 'r', 'y', '0', 'c', '5', 'x', 'w', '7', 'k', 'v', '8', 'f', '3', 't', '4']\n",
            "------------------------------------------------------\n",
            "9 Bitcoin Address:  bc1qw508d6qejxtdg4y5r3zarvary0c5xw7kv8f3t4\n",
            "------------------------------------------------------\n"
          ]
        }
      ]
    },
    {
      "cell_type": "code",
      "source": [],
      "metadata": {
        "id": "x7rF4Mq6gy_S"
      },
      "execution_count": 4,
      "outputs": []
    }
  ]
}