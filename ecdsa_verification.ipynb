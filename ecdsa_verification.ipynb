{
  "nbformat": 4,
  "nbformat_minor": 0,
  "metadata": {
    "colab": {
      "provenance": []
    },
    "kernelspec": {
      "name": "python3",
      "display_name": "Python 3"
    },
    "language_info": {
      "name": "python"
    }
  },
  "cells": [
    {
      "cell_type": "code",
      "execution_count": 1,
      "metadata": {
        "id": "Vp2M9JMd9c20",
        "colab": {
          "base_uri": "https://localhost:8080/"
        },
        "outputId": "c1c232f3-d204-4220-f762-c08fc8060cc9"
      },
      "outputs": [
        {
          "output_type": "stream",
          "name": "stdout",
          "text": [
            "Looking in indexes: https://pypi.org/simple, https://us-python.pkg.dev/colab-wheels/public/simple/\n",
            "Collecting ecdsa\n",
            "  Downloading ecdsa-0.18.0-py2.py3-none-any.whl (142 kB)\n",
            "\u001b[K     |████████████████████████████████| 142 kB 2.1 MB/s \n",
            "\u001b[?25hRequirement already satisfied: six>=1.9.0 in /usr/local/lib/python3.7/dist-packages (from ecdsa) (1.15.0)\n",
            "Installing collected packages: ecdsa\n",
            "Successfully installed ecdsa-0.18.0\n"
          ]
        }
      ],
      "source": [
        "!pip install ecdsa"
      ]
    },
    {
      "cell_type": "code",
      "source": [
        "from ecdsa.curves import SECP256k1\n",
        "from ecdsa.ellipticcurve import Point\n",
        "import hashlib"
      ],
      "metadata": {
        "id": "I3vvgfCTT0-8"
      },
      "execution_count": 2,
      "outputs": []
    },
    {
      "cell_type": "code",
      "source": [
        "#Generator\n",
        "x1 = 55066263022277343669578718895168534326250603453777594175500187360389116729240\n",
        "y1 = 32670510020758816978083085130507043184471273380659243275938904335757337482424\n",
        "G = Point(SECP256k1.curve, x1, y1)\n",
        "print(\"generator?\", G == SECP256k1.generator)\n",
        "#Public key\n",
        "x_P = 74911881170087217160727624520586491041842985584706548062197841168199893840628\n",
        "y_P = 15150952392829518070294151181456990267246399241330880099141153295825441191914\n",
        "P = Point(SECP256k1.curve, x_P, y_P)\n",
        "#Random point\n",
        "r = 36322260242567644327577471914851727161017458705958127170915236715425819333073\n",
        "y = 113817104126258647026551196310596962231430747658282676626153792268748326724326\n",
        "R = Point(SECP256k1.curve, r, y)\n",
        "#message hash\n",
        "m = b\"Don't Trust, Verify\"\n",
        "hash_obj = hashlib.sha256(m)\n",
        "hash_hex = hash_obj.hexdigest()\n",
        "z = int(hash_hex, 16)\n",
        "print(\"message:\", m)\n",
        "print(\"message hash:\", z)\n",
        "#signature\n",
        "s = 46710335028142728088366423349070467422602633533470980321154125513299191948626\n",
        "#verification\n",
        "print(\"valid signatre?\")\n",
        "z*G + r*P == s*R"
      ],
      "metadata": {
        "colab": {
          "base_uri": "https://localhost:8080/"
        },
        "id": "BR25lV1CRjP0",
        "outputId": "645b5c67-fe5f-4846-a52e-52cc8aa848e8"
      },
      "execution_count": 3,
      "outputs": [
        {
          "output_type": "stream",
          "name": "stdout",
          "text": [
            "generator? True\n",
            "message: b\"Don't Trust, Verify\"\n",
            "message hash: 112761469845056919304416565170674990599925418308225593267094103636319905743526\n",
            "valid signatre?\n"
          ]
        },
        {
          "output_type": "execute_result",
          "data": {
            "text/plain": [
              "True"
            ]
          },
          "metadata": {},
          "execution_count": 3
        }
      ]
    }
  ]
}